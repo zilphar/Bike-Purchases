{
  "nbformat": 4,
  "nbformat_minor": 0,
  "metadata": {
    "colab": {
      "provenance": [],
      "authorship_tag": "ABX9TyNPjR++3TDweEzB3FtABngO",
      "include_colab_link": true
    },
    "kernelspec": {
      "name": "python3",
      "display_name": "Python 3"
    },
    "language_info": {
      "name": "python"
    }
  },
  "cells": [
    {
      "cell_type": "markdown",
      "metadata": {
        "id": "view-in-github",
        "colab_type": "text"
      },
      "source": [
        "<a href=\"https://colab.research.google.com/github/zilphar/Bike-Purchases/blob/main/PR.ipynb\" target=\"_parent\"><img src=\"https://colab.research.google.com/assets/colab-badge.svg\" alt=\"Open In Colab\"/></a>"
      ]
    },
    {
      "cell_type": "code",
      "execution_count": 3,
      "metadata": {
        "colab": {
          "base_uri": "https://localhost:8080/"
        },
        "id": "XreNHORPgSTa",
        "outputId": "b53df40d-66fb-4a4a-fb09-f0f6a6a78571"
      },
      "outputs": [
        {
          "output_type": "stream",
          "name": "stdout",
          "text": [
            "[2 3 4 6 1 7 8]\n",
            "4\n"
          ]
        }
      ],
      "source": [
        "import sys\n",
        "import numpy as np\n",
        "\n",
        "arr = [2, 3, 4, 6, 1, 7, 8]\n",
        "\n",
        "print(np.array(arr))\n",
        "\n",
        "print(arr[2])  # indexing\n",
        "\n",
        "print(arr[1:])"
      ]
    },
    {
      "cell_type": "code",
      "source": [
        "# changing data type\n",
        "arr = [2, 3, 4, 6, 1, 7, 8]\n",
        "\n",
        "print(np.array(arr, dtype = float))\n",
        "\n",
        "\n",
        "myarray = np.array([[[1, 2, 3, 4,], [2, 8, 0, 4]], [[4, 1, 9, 2], [3, 0, 2, 7]]])\n",
        "\n",
        "print(myarray)\n",
        "print(myarray.ndim)\n",
        "\n",
        "print(myarray[1, 0])  # first element in index one\n",
        "\n",
        "\n",
        "\n",
        "print(np.arange(6))\n",
        "\n",
        "a = np.arange(5)\n",
        "a + 20\n",
        "print(a)"
      ],
      "metadata": {
        "colab": {
          "base_uri": "https://localhost:8080/"
        },
        "id": "iRRHi_Dpi-UE",
        "outputId": "f69f2687-e124-4d41-da09-cf9676625949"
      },
      "execution_count": 17,
      "outputs": [
        {
          "output_type": "stream",
          "name": "stdout",
          "text": [
            "[2. 3. 4. 6. 1. 7. 8.]\n",
            "[[[1 2 3 4]\n",
            "  [2 8 0 4]]\n",
            "\n",
            " [[4 1 9 2]\n",
            "  [3 0 2 7]]]\n",
            "3\n",
            "[4 1 9 2]\n",
            "[0 1 2 3 4 5]\n",
            "[0 1 2 3 4]\n"
          ]
        }
      ]
    },
    {
      "cell_type": "code",
      "source": [
        "A = np.array([\n",
        "    ['a', 'b', 'c'],\n",
        "    ['d', 'e', 'f'],\n",
        "    ['g', 'h', 'i']\n",
        "])\n",
        "\n",
        "print(A[:, :2])"
      ],
      "metadata": {
        "colab": {
          "base_uri": "https://localhost:8080/"
        },
        "id": "Rl8FkXfFraco",
        "outputId": "549a0f42-300d-41db-822a-e28da51ceb05"
      },
      "execution_count": 12,
      "outputs": [
        {
          "output_type": "stream",
          "name": "stdout",
          "text": [
            "[['a' 'b']\n",
            " ['d' 'e']\n",
            " ['g' 'h']]\n"
          ]
        }
      ]
    },
    {
      "cell_type": "code",
      "source": [
        "import numpy as np\n",
        "a = np.arange(5)\n",
        "\n",
        "print(a <= 3)"
      ],
      "metadata": {
        "colab": {
          "base_uri": "https://localhost:8080/"
        },
        "id": "L_Y5Q4BCUKZS",
        "outputId": "184b4621-fe26-4dd1-adcb-b45af5f24726"
      },
      "execution_count": 2,
      "outputs": [
        {
          "output_type": "stream",
          "name": "stdout",
          "text": [
            "[ True  True  True  True False]\n"
          ]
        }
      ]
    }
  ]
}